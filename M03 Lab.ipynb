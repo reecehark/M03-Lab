{
 "cells": [
  {
   "cell_type": "code",
   "execution_count": 2,
   "id": "14af778d",
   "metadata": {},
   "outputs": [
    {
     "name": "stdout",
     "output_type": "stream",
     "text": [
      "Enter vehicle type (car, truck, plane, boat, or broomstick): Car\n",
      "Enter year: 2023\n",
      "Enter make: Toyota\n",
      "Enter model: GR86\n",
      "Enter number of doors (2 or 4): 2\n",
      "Enter type of roof (solid or sun roof): Solid\n",
      "\n",
      "Vehicle type: Car\n",
      "Year: 2023\n",
      "Make: Toyota\n",
      "Model: GR86\n",
      "Number of doors: 2\n",
      "Type of roof: Solid\n"
     ]
    }
   ],
   "source": [
    "#Reece Harkness\n",
    "#M03 Lab.ipynb\n",
    "#Shows the user in an organized format, what type of car they entered\n",
    "\n",
    "class Vehicle:\n",
    "    def __init__(self, vehicle_type):\n",
    "        self.vehicle_type = vehicle_type\n",
    "        \n",
    "#setting up the questions\n",
    "class Automobile(Vehicle):\n",
    "    def __init__(self, vehicle_type, year, make, model, doors, roof):\n",
    "        super().__init__(vehicle_type)\n",
    "        self.year = year\n",
    "        self.make = make\n",
    "        self.model = model\n",
    "        self.doors = doors\n",
    "        self.roof = roof\n",
    "        \n",
    "#where the user will enter their info\n",
    "vehicle_type = input(\"Enter vehicle type (car, truck, plane, boat, or broomstick): \")\n",
    "year = input(\"Enter year: \")\n",
    "make = input(\"Enter make: \")\n",
    "model = input(\"Enter model: \")\n",
    "doors = input(\"Enter number of doors (2 or 4): \")\n",
    "roof = input(\"Enter type of roof (solid or sun roof): \")\n",
    "\n",
    "car = Automobile(vehicle_type, year, make, model, doors, roof)\n",
    "\n",
    "#the output statements\n",
    "print(\"\\nVehicle type:\", car.vehicle_type)\n",
    "print(\"Year:\", car.year)\n",
    "print(\"Make:\", car.make)\n",
    "print(\"Model:\", car.model)\n",
    "print(\"Number of doors:\", car.doors)\n",
    "print(\"Type of roof:\", car.roof)"
   ]
  }
 ],
 "metadata": {
  "kernelspec": {
   "display_name": "Python 3 (ipykernel)",
   "language": "python",
   "name": "python3"
  },
  "language_info": {
   "codemirror_mode": {
    "name": "ipython",
    "version": 3
   },
   "file_extension": ".py",
   "mimetype": "text/x-python",
   "name": "python",
   "nbconvert_exporter": "python",
   "pygments_lexer": "ipython3",
   "version": "3.10.9"
  }
 },
 "nbformat": 4,
 "nbformat_minor": 5
}
